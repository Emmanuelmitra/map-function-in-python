{
  "nbformat": 4,
  "nbformat_minor": 0,
  "metadata": {
    "colab": {
      "name": "map function in python ",
      "provenance": [],
      "authorship_tag": "ABX9TyN7J+J3DDFqUWsRSrp+0Aoq",
      "include_colab_link": true
    },
    "kernelspec": {
      "name": "python3",
      "display_name": "Python 3"
    },
    "language_info": {
      "name": "python"
    }
  },
  "cells": [
    {
      "cell_type": "markdown",
      "metadata": {
        "id": "view-in-github",
        "colab_type": "text"
      },
      "source": [
        "<a href=\"https://colab.research.google.com/github/Emmanuelmitra/map-function-in-python/blob/main/map_function_in_python.ipynb\" target=\"_parent\"><img src=\"https://colab.research.google.com/assets/colab-badge.svg\" alt=\"Open In Colab\"/></a>"
      ]
    },
    {
      "cell_type": "markdown",
      "source": [
        "# map() function in Python "
      ],
      "metadata": {
        "id": "wpUm3_wrgnp1"
      }
    },
    {
      "cell_type": "markdown",
      "source": [
        "1. what is map function in python ?\n",
        "Python's map() is a built-in function that allows you to process and transform all the items in an iterable without using an explicit for loop, a technique commonly known as mapping. map() is useful when you need to apply a transformation function to each item in an iterable and transform them into a new iterable."
      ],
      "metadata": {
        "id": "GWgVyowxgV9I"
      }
    },
    {
      "cell_type": "markdown",
      "source": [
        "**2. syntax of map() function **:\n",
        "             map(function_to_apply, list_of_inputs)\n",
        "\n",
        "also can be written as: map(function, iterable)"
      ],
      "metadata": {
        "id": "qGaRuP4wg0v3"
      }
    },
    {
      "cell_type": "code",
      "source": [
        "# Python program to demonstrate working\n",
        "# of map.\n",
        "  \n",
        "# Return double of n\n",
        "def addition(n):\n",
        "    return n + n\n",
        "  \n",
        "# We double all numbers using map()\n",
        "numbers = (1, 2, 3, 4)\n",
        "result = map(addition, numbers)\n",
        "print(list(result))"
      ],
      "metadata": {
        "colab": {
          "base_uri": "https://localhost:8080/"
        },
        "id": "1p6qj2ARgZyv",
        "outputId": "9ce223e1-6294-4f8b-f34d-595081ec7c70"
      },
      "execution_count": 1,
      "outputs": [
        {
          "output_type": "stream",
          "name": "stdout",
          "text": [
            "[2, 4, 6, 8]\n"
          ]
        }
      ]
    },
    {
      "cell_type": "code",
      "source": [
        "# 1. Write a map function that adds plus 7 to each item in the list.\n",
        "l=[1,2,3,4,5,6,8,9]\n",
        "f=lambda x: x+7\n",
        "l=list(map(f, l))\n",
        "print(l)\n"
      ],
      "metadata": {
        "colab": {
          "base_uri": "https://localhost:8080/"
        },
        "id": "sdE75Sh5hfis",
        "outputId": "78f83ab4-b988-4021-83e0-8a998cac3886"
      },
      "execution_count": 5,
      "outputs": [
        {
          "output_type": "stream",
          "name": "stdout",
          "text": [
            "[8, 9, 10, 11, 12, 13, 15, 16]\n"
          ]
        }
      ]
    },
    {
      "cell_type": "code",
      "source": [
        "# 2. rite a map function that returns the squares of the items in the list.\n",
        "l=[1,2,3,4,5]\n",
        "f=lambda x: x**2\n",
        "l1=list(map(f,l))\n",
        "print(l1)"
      ],
      "metadata": {
        "colab": {
          "base_uri": "https://localhost:8080/"
        },
        "id": "otrAT_dqhkms",
        "outputId": "a0bac967-8041-4e09-e29f-8606d2422511"
      },
      "execution_count": 7,
      "outputs": [
        {
          "output_type": "stream",
          "name": "stdout",
          "text": [
            "[1, 4, 9, 16, 25]\n"
          ]
        }
      ]
    },
    {
      "cell_type": "code",
      "source": [
        "# 3.Write a map function that adds \"Hello, \" in front of each item in the list.\n",
        "l=['emmanuel', 'simon', 'ironman', 'superman']\n",
        "f=lambda x: 'Hello, '+x\n",
        "l1=list(map(f,l))\n",
        "print(l1)\n"
      ],
      "metadata": {
        "colab": {
          "base_uri": "https://localhost:8080/"
        },
        "id": "gjvXSjmKisVX",
        "outputId": "e39ab3b0-e34c-4ba5-f286-369c0fafef5c"
      },
      "execution_count": 8,
      "outputs": [
        {
          "output_type": "stream",
          "name": "stdout",
          "text": [
            "['Hello, emmanuel', 'Hello, simon', 'Hello, ironman', 'Hello, superman']\n"
          ]
        }
      ]
    },
    {
      "cell_type": "code",
      "source": [
        "# Using map() function and len() function create a list that's consisted of lengths\n",
        "#  of each element in the first list.\n",
        "\n",
        "l=['emmanuel', 'simon', 'ironman','superman']\n",
        "f=lambda x: len(x)\n",
        "l1=list(map(f,l))\n",
        "print(l1)\n"
      ],
      "metadata": {
        "colab": {
          "base_uri": "https://localhost:8080/"
        },
        "id": "DCudhygtjIbQ",
        "outputId": "f5a661c9-3683-4ed6-f0ef-1fbc94c74272"
      },
      "execution_count": 12,
      "outputs": [
        {
          "output_type": "stream",
          "name": "stdout",
          "text": [
            "[8, 5, 7, 8]\n"
          ]
        }
      ]
    },
    {
      "cell_type": "code",
      "source": [
        "# Using map() function and lambda and count() function create\n",
        "# a list consisted of the number of occurence of both letter: e.\n",
        "l=['emmanuel', 'simon', 'ironman','superman']\n",
        "f= lambda x: x.count('e')\n",
        "l1=list(map(f,l))\n",
        "print(l1)"
      ],
      "metadata": {
        "colab": {
          "base_uri": "https://localhost:8080/"
        },
        "id": "R_MkReDgjZSc",
        "outputId": "8fbea843-cd00-47f3-b9c4-7e5a4ca937c1"
      },
      "execution_count": 17,
      "outputs": [
        {
          "output_type": "stream",
          "name": "stdout",
          "text": [
            "[2, 0, 0, 1]\n"
          ]
        }
      ]
    },
    {
      "cell_type": "code",
      "source": [
        "# Using map() function and lambda and count() function create a list consisted of the number \n",
        "# of occurence of both letters: A and a.\n",
        "\n",
        "l=['Emmanuel','Andhrapradesh', 'Simon', 'DAAA', 'Asia']\n",
        "f=lambda x: x.lower().count('a')\n",
        "l1=list(map(f,l))\n",
        "print(l1)"
      ],
      "metadata": {
        "colab": {
          "base_uri": "https://localhost:8080/"
        },
        "id": "ki6fIgu-k3ds",
        "outputId": "f9fab005-4f21-451a-be42-dab50b5153b0"
      },
      "execution_count": 22,
      "outputs": [
        {
          "output_type": "stream",
          "name": "stdout",
          "text": [
            "[1, 3, 0, 3, 2]\n"
          ]
        }
      ]
    },
    {
      "cell_type": "code",
      "source": [
        ""
      ],
      "metadata": {
        "id": "6PaTejC0mB7d"
      },
      "execution_count": null,
      "outputs": []
    }
  ]
}